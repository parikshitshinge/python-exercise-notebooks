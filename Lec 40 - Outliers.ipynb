{
 "cells": [
  {
   "cell_type": "code",
   "execution_count": 34,
   "metadata": {},
   "outputs": [],
   "source": [
    "import pandas as pd\n",
    "import numpy as np\n",
    "from pandas import Series, DataFrame"
   ]
  },
  {
   "cell_type": "code",
   "execution_count": 35,
   "metadata": {},
   "outputs": [],
   "source": [
    "# finding outliers in a data set / caping outliers"
   ]
  },
  {
   "cell_type": "code",
   "execution_count": 39,
   "metadata": {},
   "outputs": [],
   "source": [
    "np.random.seed(123456) #passing a number to define random numbers generator"
   ]
  },
  {
   "cell_type": "code",
   "execution_count": 40,
   "metadata": {},
   "outputs": [],
   "source": [
    "dframe = DataFrame(np.random.rand(1000,4))"
   ]
  },
  {
   "cell_type": "code",
   "execution_count": 41,
   "metadata": {},
   "outputs": [
    {
     "data": {
      "text/html": [
       "<div>\n",
       "<style scoped>\n",
       "    .dataframe tbody tr th:only-of-type {\n",
       "        vertical-align: middle;\n",
       "    }\n",
       "\n",
       "    .dataframe tbody tr th {\n",
       "        vertical-align: top;\n",
       "    }\n",
       "\n",
       "    .dataframe thead th {\n",
       "        text-align: right;\n",
       "    }\n",
       "</style>\n",
       "<table border=\"1\" class=\"dataframe\">\n",
       "  <thead>\n",
       "    <tr style=\"text-align: right;\">\n",
       "      <th></th>\n",
       "      <th>0</th>\n",
       "      <th>1</th>\n",
       "      <th>2</th>\n",
       "      <th>3</th>\n",
       "    </tr>\n",
       "  </thead>\n",
       "  <tbody>\n",
       "    <tr>\n",
       "      <th>0</th>\n",
       "      <td>0.126970</td>\n",
       "      <td>0.966718</td>\n",
       "      <td>0.260476</td>\n",
       "      <td>0.897237</td>\n",
       "    </tr>\n",
       "    <tr>\n",
       "      <th>1</th>\n",
       "      <td>0.376750</td>\n",
       "      <td>0.336222</td>\n",
       "      <td>0.451376</td>\n",
       "      <td>0.840255</td>\n",
       "    </tr>\n",
       "    <tr>\n",
       "      <th>2</th>\n",
       "      <td>0.123102</td>\n",
       "      <td>0.543026</td>\n",
       "      <td>0.373012</td>\n",
       "      <td>0.447997</td>\n",
       "    </tr>\n",
       "    <tr>\n",
       "      <th>3</th>\n",
       "      <td>0.129441</td>\n",
       "      <td>0.859879</td>\n",
       "      <td>0.820388</td>\n",
       "      <td>0.352054</td>\n",
       "    </tr>\n",
       "    <tr>\n",
       "      <th>4</th>\n",
       "      <td>0.228887</td>\n",
       "      <td>0.776784</td>\n",
       "      <td>0.594784</td>\n",
       "      <td>0.137554</td>\n",
       "    </tr>\n",
       "    <tr>\n",
       "      <th>5</th>\n",
       "      <td>0.852900</td>\n",
       "      <td>0.235507</td>\n",
       "      <td>0.146227</td>\n",
       "      <td>0.589869</td>\n",
       "    </tr>\n",
       "    <tr>\n",
       "      <th>6</th>\n",
       "      <td>0.574012</td>\n",
       "      <td>0.061270</td>\n",
       "      <td>0.590426</td>\n",
       "      <td>0.245350</td>\n",
       "    </tr>\n",
       "    <tr>\n",
       "      <th>7</th>\n",
       "      <td>0.340445</td>\n",
       "      <td>0.984729</td>\n",
       "      <td>0.919540</td>\n",
       "      <td>0.037772</td>\n",
       "    </tr>\n",
       "    <tr>\n",
       "      <th>8</th>\n",
       "      <td>0.861549</td>\n",
       "      <td>0.753569</td>\n",
       "      <td>0.405179</td>\n",
       "      <td>0.343526</td>\n",
       "    </tr>\n",
       "    <tr>\n",
       "      <th>9</th>\n",
       "      <td>0.170917</td>\n",
       "      <td>0.394659</td>\n",
       "      <td>0.641666</td>\n",
       "      <td>0.274592</td>\n",
       "    </tr>\n",
       "  </tbody>\n",
       "</table>\n",
       "</div>"
      ],
      "text/plain": [
       "          0         1         2         3\n",
       "0  0.126970  0.966718  0.260476  0.897237\n",
       "1  0.376750  0.336222  0.451376  0.840255\n",
       "2  0.123102  0.543026  0.373012  0.447997\n",
       "3  0.129441  0.859879  0.820388  0.352054\n",
       "4  0.228887  0.776784  0.594784  0.137554\n",
       "5  0.852900  0.235507  0.146227  0.589869\n",
       "6  0.574012  0.061270  0.590426  0.245350\n",
       "7  0.340445  0.984729  0.919540  0.037772\n",
       "8  0.861549  0.753569  0.405179  0.343526\n",
       "9  0.170917  0.394659  0.641666  0.274592"
      ]
     },
     "execution_count": 41,
     "metadata": {},
     "output_type": "execute_result"
    }
   ],
   "source": [
    "dframe.head(10)"
   ]
  },
  {
   "cell_type": "code",
   "execution_count": 42,
   "metadata": {},
   "outputs": [
    {
     "data": {
      "text/html": [
       "<div>\n",
       "<style scoped>\n",
       "    .dataframe tbody tr th:only-of-type {\n",
       "        vertical-align: middle;\n",
       "    }\n",
       "\n",
       "    .dataframe tbody tr th {\n",
       "        vertical-align: top;\n",
       "    }\n",
       "\n",
       "    .dataframe thead th {\n",
       "        text-align: right;\n",
       "    }\n",
       "</style>\n",
       "<table border=\"1\" class=\"dataframe\">\n",
       "  <thead>\n",
       "    <tr style=\"text-align: right;\">\n",
       "      <th></th>\n",
       "      <th>0</th>\n",
       "      <th>1</th>\n",
       "      <th>2</th>\n",
       "      <th>3</th>\n",
       "    </tr>\n",
       "  </thead>\n",
       "  <tbody>\n",
       "    <tr>\n",
       "      <th>count</th>\n",
       "      <td>1000.000000</td>\n",
       "      <td>1000.000000</td>\n",
       "      <td>1000.000000</td>\n",
       "      <td>1000.000000</td>\n",
       "    </tr>\n",
       "    <tr>\n",
       "      <th>mean</th>\n",
       "      <td>0.499899</td>\n",
       "      <td>0.490529</td>\n",
       "      <td>0.517448</td>\n",
       "      <td>0.505676</td>\n",
       "    </tr>\n",
       "    <tr>\n",
       "      <th>std</th>\n",
       "      <td>0.281162</td>\n",
       "      <td>0.293038</td>\n",
       "      <td>0.288376</td>\n",
       "      <td>0.284040</td>\n",
       "    </tr>\n",
       "    <tr>\n",
       "      <th>min</th>\n",
       "      <td>0.001410</td>\n",
       "      <td>0.000518</td>\n",
       "      <td>0.000029</td>\n",
       "      <td>0.000313</td>\n",
       "    </tr>\n",
       "    <tr>\n",
       "      <th>25%</th>\n",
       "      <td>0.254974</td>\n",
       "      <td>0.239504</td>\n",
       "      <td>0.282263</td>\n",
       "      <td>0.262935</td>\n",
       "    </tr>\n",
       "    <tr>\n",
       "      <th>50%</th>\n",
       "      <td>0.511120</td>\n",
       "      <td>0.471118</td>\n",
       "      <td>0.514318</td>\n",
       "      <td>0.507112</td>\n",
       "    </tr>\n",
       "    <tr>\n",
       "      <th>75%</th>\n",
       "      <td>0.730406</td>\n",
       "      <td>0.750465</td>\n",
       "      <td>0.761336</td>\n",
       "      <td>0.745523</td>\n",
       "    </tr>\n",
       "    <tr>\n",
       "      <th>max</th>\n",
       "      <td>0.995198</td>\n",
       "      <td>0.998098</td>\n",
       "      <td>0.999752</td>\n",
       "      <td>0.999625</td>\n",
       "    </tr>\n",
       "  </tbody>\n",
       "</table>\n",
       "</div>"
      ],
      "text/plain": [
       "                 0            1            2            3\n",
       "count  1000.000000  1000.000000  1000.000000  1000.000000\n",
       "mean      0.499899     0.490529     0.517448     0.505676\n",
       "std       0.281162     0.293038     0.288376     0.284040\n",
       "min       0.001410     0.000518     0.000029     0.000313\n",
       "25%       0.254974     0.239504     0.282263     0.262935\n",
       "50%       0.511120     0.471118     0.514318     0.507112\n",
       "75%       0.730406     0.750465     0.761336     0.745523\n",
       "max       0.995198     0.998098     0.999752     0.999625"
      ]
     },
     "execution_count": 42,
     "metadata": {},
     "output_type": "execute_result"
    }
   ],
   "source": [
    "dframe.describe()"
   ]
  },
  {
   "cell_type": "code",
   "execution_count": 21,
   "metadata": {},
   "outputs": [],
   "source": [
    "col = dframe[0]"
   ]
  },
  {
   "cell_type": "code",
   "execution_count": 22,
   "metadata": {},
   "outputs": [
    {
     "data": {
      "text/plain": [
       "0    0.929616\n",
       "1    0.567725\n",
       "2    0.748907\n",
       "3    0.008388\n",
       "4    0.809813\n",
       "Name: 0, dtype: float64"
      ]
     },
     "execution_count": 22,
     "metadata": {},
     "output_type": "execute_result"
    }
   ],
   "source": [
    "col.head()"
   ]
  },
  {
   "cell_type": "code",
   "execution_count": 28,
   "metadata": {},
   "outputs": [
    {
     "data": {
      "text/plain": [
       "74     0.999414\n",
       "178    0.994779\n",
       "354    0.998199\n",
       "695    0.992646\n",
       "Name: 0, dtype: float64"
      ]
     },
     "execution_count": 28,
     "metadata": {},
     "output_type": "execute_result"
    }
   ],
   "source": [
    "col[np.abs(col)>3] #any value in col which is >3 will be returned"
   ]
  },
  {
   "cell_type": "code",
   "execution_count": 44,
   "metadata": {},
   "outputs": [
    {
     "data": {
      "text/html": [
       "<div>\n",
       "<style scoped>\n",
       "    .dataframe tbody tr th:only-of-type {\n",
       "        vertical-align: middle;\n",
       "    }\n",
       "\n",
       "    .dataframe tbody tr th {\n",
       "        vertical-align: top;\n",
       "    }\n",
       "\n",
       "    .dataframe thead th {\n",
       "        text-align: right;\n",
       "    }\n",
       "</style>\n",
       "<table border=\"1\" class=\"dataframe\">\n",
       "  <thead>\n",
       "    <tr style=\"text-align: right;\">\n",
       "      <th></th>\n",
       "      <th>0</th>\n",
       "      <th>1</th>\n",
       "      <th>2</th>\n",
       "      <th>3</th>\n",
       "    </tr>\n",
       "  </thead>\n",
       "  <tbody>\n",
       "  </tbody>\n",
       "</table>\n",
       "</div>"
      ],
      "text/plain": [
       "Empty DataFrame\n",
       "Columns: [0, 1, 2, 3]\n",
       "Index: []"
      ]
     },
     "execution_count": 44,
     "metadata": {},
     "output_type": "execute_result"
    }
   ],
   "source": [
    "dframe[(np.abs(dframe)>3).any(1)] #any value in dataframe which is >3 will be returned"
   ]
  },
  {
   "cell_type": "code",
   "execution_count": 46,
   "metadata": {},
   "outputs": [],
   "source": [
    "dframe[np.abs(dframe>3)] = np.sign(dframe)*3 #every value which is >3, multiply by -1/1*3"
   ]
  },
  {
   "cell_type": "code",
   "execution_count": 47,
   "metadata": {},
   "outputs": [
    {
     "data": {
      "text/html": [
       "<div>\n",
       "<style scoped>\n",
       "    .dataframe tbody tr th:only-of-type {\n",
       "        vertical-align: middle;\n",
       "    }\n",
       "\n",
       "    .dataframe tbody tr th {\n",
       "        vertical-align: top;\n",
       "    }\n",
       "\n",
       "    .dataframe thead th {\n",
       "        text-align: right;\n",
       "    }\n",
       "</style>\n",
       "<table border=\"1\" class=\"dataframe\">\n",
       "  <thead>\n",
       "    <tr style=\"text-align: right;\">\n",
       "      <th></th>\n",
       "      <th>0</th>\n",
       "      <th>1</th>\n",
       "      <th>2</th>\n",
       "      <th>3</th>\n",
       "    </tr>\n",
       "  </thead>\n",
       "  <tbody>\n",
       "    <tr>\n",
       "      <th>count</th>\n",
       "      <td>1000.000000</td>\n",
       "      <td>1000.000000</td>\n",
       "      <td>1000.000000</td>\n",
       "      <td>1000.000000</td>\n",
       "    </tr>\n",
       "    <tr>\n",
       "      <th>mean</th>\n",
       "      <td>0.499899</td>\n",
       "      <td>0.490529</td>\n",
       "      <td>0.517448</td>\n",
       "      <td>0.505676</td>\n",
       "    </tr>\n",
       "    <tr>\n",
       "      <th>std</th>\n",
       "      <td>0.281162</td>\n",
       "      <td>0.293038</td>\n",
       "      <td>0.288376</td>\n",
       "      <td>0.284040</td>\n",
       "    </tr>\n",
       "    <tr>\n",
       "      <th>min</th>\n",
       "      <td>0.001410</td>\n",
       "      <td>0.000518</td>\n",
       "      <td>0.000029</td>\n",
       "      <td>0.000313</td>\n",
       "    </tr>\n",
       "    <tr>\n",
       "      <th>25%</th>\n",
       "      <td>0.254974</td>\n",
       "      <td>0.239504</td>\n",
       "      <td>0.282263</td>\n",
       "      <td>0.262935</td>\n",
       "    </tr>\n",
       "    <tr>\n",
       "      <th>50%</th>\n",
       "      <td>0.511120</td>\n",
       "      <td>0.471118</td>\n",
       "      <td>0.514318</td>\n",
       "      <td>0.507112</td>\n",
       "    </tr>\n",
       "    <tr>\n",
       "      <th>75%</th>\n",
       "      <td>0.730406</td>\n",
       "      <td>0.750465</td>\n",
       "      <td>0.761336</td>\n",
       "      <td>0.745523</td>\n",
       "    </tr>\n",
       "    <tr>\n",
       "      <th>max</th>\n",
       "      <td>0.995198</td>\n",
       "      <td>0.998098</td>\n",
       "      <td>0.999752</td>\n",
       "      <td>0.999625</td>\n",
       "    </tr>\n",
       "  </tbody>\n",
       "</table>\n",
       "</div>"
      ],
      "text/plain": [
       "                 0            1            2            3\n",
       "count  1000.000000  1000.000000  1000.000000  1000.000000\n",
       "mean      0.499899     0.490529     0.517448     0.505676\n",
       "std       0.281162     0.293038     0.288376     0.284040\n",
       "min       0.001410     0.000518     0.000029     0.000313\n",
       "25%       0.254974     0.239504     0.282263     0.262935\n",
       "50%       0.511120     0.471118     0.514318     0.507112\n",
       "75%       0.730406     0.750465     0.761336     0.745523\n",
       "max       0.995198     0.998098     0.999752     0.999625"
      ]
     },
     "execution_count": 47,
     "metadata": {},
     "output_type": "execute_result"
    }
   ],
   "source": [
    "dframe.describe() # using above method, we can cap any outliers"
   ]
  },
  {
   "cell_type": "code",
   "execution_count": null,
   "metadata": {},
   "outputs": [],
   "source": []
  }
 ],
 "metadata": {
  "kernelspec": {
   "display_name": "Python 3",
   "language": "python",
   "name": "python3"
  },
  "language_info": {
   "codemirror_mode": {
    "name": "ipython",
    "version": 3
   },
   "file_extension": ".py",
   "mimetype": "text/x-python",
   "name": "python",
   "nbconvert_exporter": "python",
   "pygments_lexer": "ipython3",
   "version": "3.7.1"
  }
 },
 "nbformat": 4,
 "nbformat_minor": 2
}
